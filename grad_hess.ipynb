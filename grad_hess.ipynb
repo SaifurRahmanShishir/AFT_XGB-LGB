{
 "cells": [
  {
   "cell_type": "code",
   "execution_count": 1,
   "id": "859f2a73",
   "metadata": {
    "ExecuteTime": {
     "end_time": "2021-12-08T07:34:29.102542Z",
     "start_time": "2021-12-08T07:34:27.694581Z"
    }
   },
   "outputs": [],
   "source": [
    "import numpy as np\n",
    "import pandas as pd\n",
    "import warnings\n",
    "import lightgbm as lgb\n",
    "warnings.filterwarnings(\"ignore\")\n"
   ]
  },
  {
   "cell_type": "markdown",
   "id": "7aba734e",
   "metadata": {},
   "source": [
    "# Regularization"
   ]
  },
  {
   "cell_type": "code",
   "execution_count": 24,
   "id": "83599b76",
   "metadata": {
    "ExecuteTime": {
     "end_time": "2021-11-25T19:22:52.686755Z",
     "start_time": "2021-11-25T19:22:52.681302Z"
    }
   },
   "outputs": [],
   "source": [
    "kMinGradient = -15.0\n",
    "kMaxGradient = 15.0\n",
    "kMinHessian = 1e-16  # Ensure that no data point gets zero hessian\n",
    "kMaxHessian = 15.0\n",
    "kEps = 1e-12;  # A denominator in a fraction should not be too small\n",
    "\n",
    "##### regularized function\n",
    "\n",
    "def regularization1(t, t_max, t_min):\n",
    "    \n",
    "    if(t < t_min):\n",
    "        return t_min\n",
    "    if(t > t_max):\n",
    "        return t_max\n",
    "    \n",
    "    return t\n",
    "\n",
    "regularization = np.vectorize(regularization1)\n",
    "\n",
    "\n",
    "\n",
    "########## Handelling zero division error (x/0)\n",
    "\n",
    "def zero_division1(num, deno):\n",
    "    \n",
    "    try:\n",
    "        result = num / deno\n",
    "    except ZeroDivisionError:\n",
    "        result = np.inf\n",
    "     \n",
    "    return(result)\n",
    "\n",
    "zero_division = np.vectorize(zero_division1)\n"
   ]
  },
  {
   "cell_type": "markdown",
   "id": "2bef53b3",
   "metadata": {},
   "source": [
    "# Probability Distribution"
   ]
  },
  {
   "cell_type": "markdown",
   "id": "c93893c7",
   "metadata": {},
   "source": [
    "## log normal distribution (Z ~ N(0,1))"
   ]
  },
  {
   "cell_type": "code",
   "execution_count": 23,
   "id": "1b694e08",
   "metadata": {
    "ExecuteTime": {
     "end_time": "2021-11-25T19:22:32.328565Z",
     "start_time": "2021-11-25T19:22:32.310236Z"
    }
   },
   "outputs": [],
   "source": [
    "### Normal\n",
    "class normal_dist:\n",
    "    \n",
    "    kMinGradient = -15.0\n",
    "    kMaxGradient = 15.0\n",
    "    kMinHessian = 1e-16  # Ensure that no data point gets zero hessian\n",
    "    kMaxHessian = 15.0 \n",
    "    kEps = 1e-12;  # A denominator in a fraction should not be too small\n",
    "\n",
    "    \n",
    "    \n",
    "    def __init__(self, Z, scale):\n",
    "        self.Z = np.array(Z)\n",
    "        self.b = np.array(scale)\n",
    "        \n",
    "    def normal_pdf(self):\n",
    "        return(np.exp((-self.Z * self.Z)/2.0) / np.sqrt((2.0 * np.pi)))\n",
    "        #normal_pdf = np.vectorize(normal_pdf1)\n",
    "\n",
    "\n",
    "    def normal_cdf(self):\n",
    "        import math\n",
    "        math_erf = np.vectorize(math.erf) \n",
    "        return (0.5 * (1.0 + math_erf(self.Z / np.sqrt(2.0))))\n",
    "        #normal_cdf = np.vectorize(normal_cdf1)\n",
    "\n",
    "    def normal_grad(self):\n",
    "        return(-self.Z * self.normal_pdf())\n",
    "        #normal_grad = np.vectorize(normal_grad1)\n",
    "\n",
    "    def normal_hess(self):\n",
    "        return((self.Z * self.Z - 1.0) * self.normal_pdf())\n",
    "        #normal_hess = np.vectorize(normal_hess1)   \n",
    "    \n",
    "    @property\n",
    "    def gnumerator_u(self):\n",
    "        return(self.normal_grad())\n",
    "    \n",
    "    @property\n",
    "    def gdenominator_u(self):\n",
    "        return(self.b * self.normal_pdf())\n",
    "    \n",
    "    @property\n",
    "    def gnumerator_c(self): \n",
    "        return(- self.normal_pdf())\n",
    "    \n",
    "    @property\n",
    "    def gdenominator_c(self): \n",
    "        return(self.b * (1.0 - self.normal_cdf()))\n",
    "    \n",
    "    @property\n",
    "    def hnumerator_u(self):\n",
    "        return((self.normal_grad() * self.normal_grad()) - self.normal_pdf() * self.normal_hess())\n",
    "        \n",
    "    @property\n",
    "    def hdenominator_u(self):\n",
    "        return((self.b*self.b * self.normal_pdf()*self.normal_pdf()))\n",
    "    \n",
    "    @property\n",
    "    def hnumerator_c(self):\n",
    "        return((self.normal_pdf() * self.normal_pdf()) - ((1.0 - self.normal_cdf()) * - self.normal_grad()))\n",
    "    \n",
    "    @property\n",
    "    def hdenominator_c(self):\n",
    "        return((self.b * self.b * (1.0 - self.normal_cdf())*(1.0 - self.normal_cdf())))\n",
    "\n",
    "    \n",
    "    \n",
    "    \n",
    "    ###########################################################################\n",
    "    \n",
    "    \n",
    "    #############################################################################\n",
    "    \n",
    "    \n",
    "   "
   ]
  },
  {
   "cell_type": "markdown",
   "id": "5b0fc98e",
   "metadata": {},
   "source": [
    "# Get gradient and hessian"
   ]
  },
  {
   "cell_type": "code",
   "execution_count": 34,
   "id": "33e5e271",
   "metadata": {
    "ExecuteTime": {
     "end_time": "2021-11-25T19:33:58.675374Z",
     "start_time": "2021-11-25T19:33:58.658909Z"
    }
   },
   "outputs": [],
   "source": [
    "def normal_getgrad1(z_value, sigma, grad_numerator_u, grad_denominator_u,\n",
    "                        grad_numerator_c, grad_denominator_c):\n",
    "    \n",
    "    z_sign = z_value > 0.0 \n",
    "    \n",
    "    grad_u = zero_division(num = grad_numerator_u, deno = grad_denominator_u)\n",
    "    grad_c = zero_division(num = grad_numerator_c, deno = grad_denominator_c)\n",
    "\n",
    "        \n",
    "    if(grad_denominator_u < kEps or np.isinf(grad_u) or np.isnan(grad_u)):\n",
    "        if (z_sign):\n",
    "            grad_u = kMaxGradient\n",
    "        else:\n",
    "            grad_u = kMinGradient\n",
    "                    \n",
    "    if(grad_denominator_c < kEps or np.isinf(grad_c) or np.isnan(grad_c)):\n",
    "        if (z_sign):\n",
    "            grad_c = 0.0\n",
    "        else:\n",
    "            grad_c = -15   \n",
    "                \n",
    "    return(grad_u, grad_c)   \n",
    "\n",
    "\n",
    "\n",
    "def normal_gethess1(z_value, sigma, hess_numerator_u, hess_denominator_u,\n",
    "                        hess_numerator_c, hess_denominator_c):\n",
    "    \n",
    "    z_sign = z_value > 0.0 \n",
    "    hess_u = zero_division(num = hess_numerator_u, deno = hess_denominator_u)\n",
    "    hess_c = zero_division(num = hess_numerator_c, deno = hess_denominator_c)\n",
    "\n",
    "\n",
    "    if(hess_denominator_u < kEps or np.isinf(hess_u) or np.isnan(hess_u)):\n",
    "        if (z_sign):\n",
    "            hess_u = 1/(sigma*sigma)\n",
    "        else:\n",
    "            hess_u = 1/(sigma*sigma)\n",
    "                    \n",
    "    if(hess_denominator_c < kEps or np.isinf(hess_c) or np.isnan(hess_c)):\n",
    "        if (z_sign):\n",
    "            hess_c = kMinHessian\n",
    "        else:\n",
    "            hess_c = 1/(sigma*sigma)  \n",
    "                \n",
    "    return(hess_u, hess_c)   \n",
    "\n",
    "    \n",
    "normal_getgrad = np.vectorize(normal_getgrad1)\n",
    "normal_gethess = np.vectorize(normal_gethess1)\n"
   ]
  },
  {
   "cell_type": "code",
   "execution_count": 4,
   "id": "c410f88c",
   "metadata": {
    "ExecuteTime": {
     "end_time": "2021-11-25T09:46:04.085201Z",
     "start_time": "2021-11-25T09:46:04.070796Z"
    },
    "scrolled": true
   },
   "outputs": [
    {
     "data": {
      "text/plain": [
       "array([2.00000000e+00, 6.33424837e-05, 1.99999943e+00, 1.97317540e-09])"
      ]
     },
     "execution_count": 4,
     "metadata": {},
     "output_type": "execute_result"
    }
   ],
   "source": [
    "s = normal_dist(Z = [-np.inf, 4, -5, 6], scale = 2)\n",
    "\n",
    "s.gdenominator_c"
   ]
  },
  {
   "cell_type": "code",
   "execution_count": 133,
   "id": "a202562b",
   "metadata": {
    "ExecuteTime": {
     "end_time": "2021-11-23T21:08:02.165735Z",
     "start_time": "2021-11-23T21:08:02.145684Z"
    }
   },
   "outputs": [
    {
     "data": {
      "text/plain": [
       "array([0.00000000e+00, 2.67660452e-04, 2.97343903e-06, 1.21517657e-08])"
      ]
     },
     "execution_count": 133,
     "metadata": {},
     "output_type": "execute_result"
    }
   ],
   "source": [
    "s.gdenominator_u"
   ]
  },
  {
   "cell_type": "code",
   "execution_count": 129,
   "id": "e2b8c274",
   "metadata": {
    "ExecuteTime": {
     "end_time": "2021-11-23T21:06:43.040038Z",
     "start_time": "2021-11-23T21:06:43.025488Z"
    }
   },
   "outputs": [
    {
     "data": {
      "text/plain": [
       "(array([-15. ,  -2. ,   2.5,  -3. ]),\n",
       " array([-0.00000000e+00, -2.11280357e+00, -7.43359970e-07, -3.07924113e+00]))"
      ]
     },
     "execution_count": 129,
     "metadata": {},
     "output_type": "execute_result"
    }
   ],
   "source": [
    "restricted_grad(z_value = s.Z , sigma = 2, grad_numerator_u = s.gnumerator_u, \n",
    "                       grad_denominator_u = s.gdenominator_u, grad_numerator_c = s.gnumerator_c, \n",
    "                       grad_denominator_c = s.gdenominator_c)\n"
   ]
  },
  {
   "cell_type": "code",
   "execution_count": 37,
   "id": "427e15c6",
   "metadata": {
    "ExecuteTime": {
     "end_time": "2021-11-25T19:36:16.402681Z",
     "start_time": "2021-11-25T19:36:16.396969Z"
    }
   },
   "outputs": [
    {
     "data": {
      "text/plain": [
       "[(1, -1), (2, -2)]"
      ]
     },
     "execution_count": 37,
     "metadata": {},
     "output_type": "execute_result"
    }
   ],
   "source": [
    "#zero_division(num = [1,0], deno = [0,2])\n",
    "def sw(a,b, c):\n",
    "    return(a+b*c, a-b)\n",
    "\n",
    "w = map(sw, [1,0], [2,2], [0,1])  \n",
    "list(w)\n"
   ]
  },
  {
   "cell_type": "code",
   "execution_count": 76,
   "id": "c397ff1f",
   "metadata": {
    "ExecuteTime": {
     "end_time": "2021-11-25T19:52:36.765445Z",
     "start_time": "2021-11-25T19:52:36.760078Z"
    }
   },
   "outputs": [
    {
     "data": {
      "text/plain": [
       "array(2)"
      ]
     },
     "execution_count": 76,
     "metadata": {},
     "output_type": "execute_result"
    }
   ],
   "source": [
    "s = normal_dist([2.3, 3], 2 )\n",
    "s.b"
   ]
  },
  {
   "cell_type": "code",
   "execution_count": 80,
   "id": "b2c23486",
   "metadata": {
    "ExecuteTime": {
     "end_time": "2021-11-25T19:53:46.400769Z",
     "start_time": "2021-11-25T19:53:46.395873Z"
    }
   },
   "outputs": [
    {
     "data": {
      "text/plain": [
       "array([2, 2])"
      ]
     },
     "execution_count": 80,
     "metadata": {},
     "output_type": "execute_result"
    }
   ],
   "source": [
    "np.array([s.b] * len(s.Z))"
   ]
  },
  {
   "cell_type": "code",
   "execution_count": 79,
   "id": "de6fdc0b",
   "metadata": {
    "ExecuteTime": {
     "end_time": "2021-11-25T19:53:31.755823Z",
     "start_time": "2021-11-25T19:53:31.749227Z"
    }
   },
   "outputs": [
    {
     "data": {
      "text/plain": [
       "[(array(-1.15), array(-1.32071742)), (array(-1.5), array(-1.64154933))]"
      ]
     },
     "execution_count": 79,
     "metadata": {},
     "output_type": "execute_result"
    }
   ],
   "source": [
    "p = list(map(normal_getgrad1, s.Z, np.array([s.b] * len(s.Z)), s.gnumerator_u, s.gdenominator_u,\n",
    "                                             s.gnumerator_c, s.gdenominator_c))\n",
    "p"
   ]
  },
  {
   "cell_type": "code",
   "execution_count": 81,
   "id": "97aa67d1",
   "metadata": {
    "ExecuteTime": {
     "end_time": "2021-11-25T19:55:04.792173Z",
     "start_time": "2021-11-25T19:55:04.787828Z"
    }
   },
   "outputs": [
    {
     "data": {
      "text/plain": [
       "array(-1.32071742)"
      ]
     },
     "execution_count": 81,
     "metadata": {},
     "output_type": "execute_result"
    }
   ],
   "source": [
    "p[0][0]\n",
    "p[0][1]"
   ]
  },
  {
   "cell_type": "code",
   "execution_count": 93,
   "id": "07101cff",
   "metadata": {
    "ExecuteTime": {
     "end_time": "2021-11-25T20:02:57.821744Z",
     "start_time": "2021-11-25T20:02:57.809398Z"
    }
   },
   "outputs": [],
   "source": [
    "def aft_norm (y_true, y_pred):\n",
    "    \n",
    "    '''\n",
    "    #f = np.exp((-z*z)/2.0) / np.sqrt((2.0*np.pi))   #scipy.stats.norm.pdf(z)\n",
    "    #grad_f = -z*f\n",
    "    #hess_f = (z*z - 1.0) * f\n",
    "    #F = scipy.stats.norm.cdf(z)\n",
    "    #0.5 * (1.0 + math.erf(z / np.sqrt(2.0)))           \n",
    "    #s = 1 - scipy.stats.norm.cdf(z)\n",
    "                                         \n",
    "    grad_n =  ind_train*(normal_grad(z) / (b*normal_pdf(z))) + ((1.0 - ind_train)*(-normal_pdf(z))) / (b * (1.0 - normal_cdf(z)))\n",
    "    \n",
    "    hessian_u = ind_train * ((normal_grad(z)*normal_grad(z)) - normal_pdf(z)*normal_hess(z)) / (b*b*normal_pdf(z)*normal_pdf(z)) \n",
    "    hessian_c = ((1-ind_train) * ((-normal_pdf(z)* -normal_pdf(z)) - ((1.0 - normal_cdf(z)) * -normal_grad(z))) / (b*b*(1.0 - normal_cdf(z))*(1.0 - normal_cdf(z))))\n",
    "    \n",
    "    hess_n =  hessian_u + hessian_c \n",
    "    \n",
    "    '''\n",
    "    \n",
    "    b = 2.0\n",
    "    z = (y_true - y_pred)/b\n",
    "    \n",
    "    s = normal_dist(Z = z, scale = b)   \n",
    "    sigma = np.array([s.b] * len(s.Z))\n",
    "    gradient_u, gradient_c = normal_getgrad(z_value = s.Z, sigma = s.b, grad_numerator_u = s.gnumerator_u, \n",
    "                                             grad_denominator_u = s.gdenominator_u,\n",
    "                                             grad_numerator_c = s.gnumerator_c, \n",
    "                                             grad_denominator_c = s.gdenominator_c)\n",
    "\n",
    "\n",
    "#    p = list(map(normal_getgrad1, s.Z, sigma, s.gnumerator_u, s.gdenominator_u,\n",
    "#                                             s.gnumerator_c, s.gdenominator_c))\n",
    "\n",
    "\n",
    "#    gradient_u = p[0][0]\n",
    "#    gradient_c = p[0][1] \n",
    "\n",
    "    \n",
    "    g = ind_train * gradient_u + (1 - ind_train) * gradient_c\n",
    "    grad = regularization(t = g, t_min = kMinGradient, t_max = kMaxGradient)\n",
    "    \n",
    "    \n",
    "    hessian_u, hessian_c = normal_gethess(z_value = s.Z, sigma = s.b, hess_numerator_u = s. hnumerator_u, \n",
    "                                           hess_denominator_u = s.hdenominator_u, hess_numerator_c = s.hnumerator_c, \n",
    "                                           hess_denominator_c = s.hdenominator_c)\n",
    "    \n",
    "#    q = list(map(normal_gethess1, s.Z, sigma, s.hnumerator_u, s.hdenominator_u, s.hnumerator_c, \n",
    "#                                             s.hdenominator_c))\n",
    "    \n",
    "#    hessian_u = q[0][0]\n",
    "#    hessian_c = q[0][1]\n",
    "\n",
    "    \n",
    "    \n",
    "    h = ind_train*hessian_u + (1 - ind_train)*hessian_c\n",
    "    \n",
    "    hess = regularization(t = h, t_min = kMinHessian, t_max = kMaxHessian)\n",
    "\n",
    "    \n",
    "    return grad, hess\n"
   ]
  },
  {
   "cell_type": "code",
   "execution_count": null,
   "id": "bfcab0fb",
   "metadata": {},
   "outputs": [],
   "source": []
  },
  {
   "cell_type": "code",
   "execution_count": 91,
   "id": "dc748402",
   "metadata": {
    "ExecuteTime": {
     "end_time": "2021-11-25T20:02:20.302025Z",
     "start_time": "2021-11-25T20:02:19.761999Z"
    }
   },
   "outputs": [
    {
     "data": {
      "text/html": [
       "<div>\n",
       "<style scoped>\n",
       "    .dataframe tbody tr th:only-of-type {\n",
       "        vertical-align: middle;\n",
       "    }\n",
       "\n",
       "    .dataframe tbody tr th {\n",
       "        vertical-align: top;\n",
       "    }\n",
       "\n",
       "    .dataframe thead th {\n",
       "        text-align: right;\n",
       "    }\n",
       "</style>\n",
       "<table border=\"1\" class=\"dataframe\">\n",
       "  <thead>\n",
       "    <tr style=\"text-align: right;\">\n",
       "      <th></th>\n",
       "      <th>a1</th>\n",
       "      <th>a2</th>\n",
       "      <th>a3</th>\n",
       "      <th>a4</th>\n",
       "      <th>a5</th>\n",
       "      <th>a6</th>\n",
       "      <th>a7</th>\n",
       "      <th>a8</th>\n",
       "      <th>a9</th>\n",
       "      <th>a10</th>\n",
       "      <th>...</th>\n",
       "      <th>a7390</th>\n",
       "      <th>a7391</th>\n",
       "      <th>a7392</th>\n",
       "      <th>a7393</th>\n",
       "      <th>a7394</th>\n",
       "      <th>a7395</th>\n",
       "      <th>a7396</th>\n",
       "      <th>a7397</th>\n",
       "      <th>a7398</th>\n",
       "      <th>a7399</th>\n",
       "    </tr>\n",
       "  </thead>\n",
       "  <tbody>\n",
       "    <tr>\n",
       "      <th>0</th>\n",
       "      <td>-0.2210</td>\n",
       "      <td>-0.17860</td>\n",
       "      <td>-0.05025</td>\n",
       "      <td>-0.1922</td>\n",
       "      <td>-0.2944</td>\n",
       "      <td>0.75440</td>\n",
       "      <td>1.0030</td>\n",
       "      <td>0.2628</td>\n",
       "      <td>-0.2482</td>\n",
       "      <td>0.1303</td>\n",
       "      <td>...</td>\n",
       "      <td>0.2071</td>\n",
       "      <td>-0.74500</td>\n",
       "      <td>-0.06380</td>\n",
       "      <td>-0.12240</td>\n",
       "      <td>0.72480</td>\n",
       "      <td>-0.13440</td>\n",
       "      <td>0.52030</td>\n",
       "      <td>0.8013</td>\n",
       "      <td>0.93980</td>\n",
       "      <td>0.04403</td>\n",
       "    </tr>\n",
       "    <tr>\n",
       "      <th>1</th>\n",
       "      <td>-0.1946</td>\n",
       "      <td>-0.22380</td>\n",
       "      <td>-0.12600</td>\n",
       "      <td>-0.1614</td>\n",
       "      <td>-0.1994</td>\n",
       "      <td>-0.32301</td>\n",
       "      <td>0.2532</td>\n",
       "      <td>0.9026</td>\n",
       "      <td>0.6193</td>\n",
       "      <td>0.7257</td>\n",
       "      <td>...</td>\n",
       "      <td>0.2286</td>\n",
       "      <td>-0.14917</td>\n",
       "      <td>0.31320</td>\n",
       "      <td>-0.15710</td>\n",
       "      <td>0.15220</td>\n",
       "      <td>-0.33700</td>\n",
       "      <td>-0.25400</td>\n",
       "      <td>0.2317</td>\n",
       "      <td>-0.02250</td>\n",
       "      <td>-0.20954</td>\n",
       "    </tr>\n",
       "    <tr>\n",
       "      <th>2</th>\n",
       "      <td>-0.3179</td>\n",
       "      <td>-0.15850</td>\n",
       "      <td>-0.48560</td>\n",
       "      <td>-0.3483</td>\n",
       "      <td>-0.4490</td>\n",
       "      <td>-0.17260</td>\n",
       "      <td>0.2333</td>\n",
       "      <td>1.2680</td>\n",
       "      <td>0.9186</td>\n",
       "      <td>-0.0896</td>\n",
       "      <td>...</td>\n",
       "      <td>0.6340</td>\n",
       "      <td>-0.36613</td>\n",
       "      <td>-0.26613</td>\n",
       "      <td>-0.39330</td>\n",
       "      <td>-1.18100</td>\n",
       "      <td>0.08445</td>\n",
       "      <td>-0.11290</td>\n",
       "      <td>0.6758</td>\n",
       "      <td>-0.31463</td>\n",
       "      <td>-0.06200</td>\n",
       "    </tr>\n",
       "    <tr>\n",
       "      <th>3</th>\n",
       "      <td>0.4269</td>\n",
       "      <td>0.26242</td>\n",
       "      <td>1.70900</td>\n",
       "      <td>0.7984</td>\n",
       "      <td>0.4512</td>\n",
       "      <td>0.31030</td>\n",
       "      <td>0.5402</td>\n",
       "      <td>0.5965</td>\n",
       "      <td>0.4384</td>\n",
       "      <td>0.4011</td>\n",
       "      <td>...</td>\n",
       "      <td>0.3165</td>\n",
       "      <td>0.34965</td>\n",
       "      <td>0.14732</td>\n",
       "      <td>0.29881</td>\n",
       "      <td>-0.00655</td>\n",
       "      <td>0.01305</td>\n",
       "      <td>0.43361</td>\n",
       "      <td>0.2822</td>\n",
       "      <td>0.11990</td>\n",
       "      <td>0.19310</td>\n",
       "    </tr>\n",
       "    <tr>\n",
       "      <th>4</th>\n",
       "      <td>0.5116</td>\n",
       "      <td>0.79760</td>\n",
       "      <td>1.46400</td>\n",
       "      <td>1.0520</td>\n",
       "      <td>1.0410</td>\n",
       "      <td>-0.22900</td>\n",
       "      <td>1.4150</td>\n",
       "      <td>1.8440</td>\n",
       "      <td>1.8400</td>\n",
       "      <td>1.6710</td>\n",
       "      <td>...</td>\n",
       "      <td>-0.0597</td>\n",
       "      <td>0.05024</td>\n",
       "      <td>0.66020</td>\n",
       "      <td>-0.03310</td>\n",
       "      <td>-0.20860</td>\n",
       "      <td>-0.11076</td>\n",
       "      <td>0.21551</td>\n",
       "      <td>-0.3900</td>\n",
       "      <td>-0.30910</td>\n",
       "      <td>-0.08185</td>\n",
       "    </tr>\n",
       "  </tbody>\n",
       "</table>\n",
       "<p>5 rows × 7399 columns</p>\n",
       "</div>"
      ],
      "text/plain": [
       "       a1       a2       a3      a4      a5       a6      a7      a8      a9  \\\n",
       "0 -0.2210 -0.17860 -0.05025 -0.1922 -0.2944  0.75440  1.0030  0.2628 -0.2482   \n",
       "1 -0.1946 -0.22380 -0.12600 -0.1614 -0.1994 -0.32301  0.2532  0.9026  0.6193   \n",
       "2 -0.3179 -0.15850 -0.48560 -0.3483 -0.4490 -0.17260  0.2333  1.2680  0.9186   \n",
       "3  0.4269  0.26242  1.70900  0.7984  0.4512  0.31030  0.5402  0.5965  0.4384   \n",
       "4  0.5116  0.79760  1.46400  1.0520  1.0410 -0.22900  1.4150  1.8440  1.8400   \n",
       "\n",
       "      a10  ...   a7390    a7391    a7392    a7393    a7394    a7395    a7396  \\\n",
       "0  0.1303  ...  0.2071 -0.74500 -0.06380 -0.12240  0.72480 -0.13440  0.52030   \n",
       "1  0.7257  ...  0.2286 -0.14917  0.31320 -0.15710  0.15220 -0.33700 -0.25400   \n",
       "2 -0.0896  ...  0.6340 -0.36613 -0.26613 -0.39330 -1.18100  0.08445 -0.11290   \n",
       "3  0.4011  ...  0.3165  0.34965  0.14732  0.29881 -0.00655  0.01305  0.43361   \n",
       "4  1.6710  ... -0.0597  0.05024  0.66020 -0.03310 -0.20860 -0.11076  0.21551   \n",
       "\n",
       "    a7397    a7398    a7399  \n",
       "0  0.8013  0.93980  0.04403  \n",
       "1  0.2317 -0.02250 -0.20954  \n",
       "2  0.6758 -0.31463 -0.06200  \n",
       "3  0.2822  0.11990  0.19310  \n",
       "4 -0.3900 -0.30910 -0.08185  \n",
       "\n",
       "[5 rows x 7399 columns]"
      ]
     },
     "execution_count": 91,
     "metadata": {},
     "output_type": "execute_result"
    }
   ],
   "source": [
    "df = pd.read_csv('DLBCL.csv')\n",
    "y = np.log(df['time']) \n",
    "X = df.iloc[:,3:]\n",
    "ind_train = df['status']\n",
    "X.head()\n"
   ]
  },
  {
   "cell_type": "code",
   "execution_count": 87,
   "id": "b90c9e23",
   "metadata": {
    "ExecuteTime": {
     "end_time": "2021-11-25T20:00:01.435429Z",
     "start_time": "2021-11-25T19:59:48.835553Z"
    }
   },
   "outputs": [
    {
     "name": "stdout",
     "output_type": "stream",
     "text": [
      "[50]\ttraining's rmse: 1.82503\ttraining's l1: 1.4181\n",
      "[100]\ttraining's rmse: 1.78542\ttraining's l1: 1.37181\n",
      "[150]\ttraining's rmse: 1.75206\ttraining's l1: 1.32967\n",
      "[200]\ttraining's rmse: 1.72454\ttraining's l1: 1.2934\n",
      "[250]\ttraining's rmse: 1.70245\ttraining's l1: 1.26083\n",
      "[300]\ttraining's rmse: 1.68537\ttraining's l1: 1.23117\n",
      "[350]\ttraining's rmse: 1.67289\ttraining's l1: 1.20378\n",
      "[400]\ttraining's rmse: 1.6646\ttraining's l1: 1.18006\n",
      "[450]\ttraining's rmse: 1.66011\ttraining's l1: 1.15912\n",
      "[500]\ttraining's rmse: 1.65904\ttraining's l1: 1.14342\n",
      "[550]\ttraining's rmse: 1.66104\ttraining's l1: 1.13197\n",
      "[600]\ttraining's rmse: 1.66577\ttraining's l1: 1.12426\n",
      "[650]\ttraining's rmse: 1.67292\ttraining's l1: 1.11908\n",
      "[700]\ttraining's rmse: 1.68222\ttraining's l1: 1.11667\n",
      "[750]\ttraining's rmse: 1.6934\ttraining's l1: 1.11745\n",
      "[800]\ttraining's rmse: 1.70624\ttraining's l1: 1.12339\n",
      "[850]\ttraining's rmse: 1.72054\ttraining's l1: 1.13294\n",
      "[900]\ttraining's rmse: 1.73611\ttraining's l1: 1.14628\n",
      "[950]\ttraining's rmse: 1.75279\ttraining's l1: 1.16226\n",
      "[1000]\ttraining's rmse: 1.77045\ttraining's l1: 1.1804\n"
     ]
    },
    {
     "data": {
      "text/plain": [
       "LGBMRegressor(boosting_type='goss', importance_type='gain', learning_rate=0.001,\n",
       "              max_depth=3, metrics=['rmse', 'l1'], n_jobs=4,\n",
       "              num_iterations=1000,\n",
       "              objective=<function aft_norm at 0x130858940>)"
      ]
     },
     "execution_count": 87,
     "metadata": {},
     "output_type": "execute_result"
    }
   ],
   "source": [
    "import lightgbm as lgb\n",
    "aft_model = lgb.LGBMRegressor() \n",
    "\n",
    "# updating objective function to custom\n",
    "# default is \"regression\"\n",
    "# also adding metrics to check different scores\n",
    "aft_model.set_params(**{'objective': aft_norm},\n",
    "               metrics = ['rmse', 'l1'], \n",
    "               boosting_type = \"goss\", \n",
    "               num_iterations = 1000,\n",
    "               n_jobs = 4, \n",
    "               max_depth = 3,   \n",
    "               learning_rate = 0.001,\n",
    "               importance_type = \"gain\")# early_stopping_round = 10)\n",
    "# fitting model \n",
    "aft_model.fit(\n",
    "    X,\n",
    "    y,\n",
    "    eval_set = [(X, y)], \n",
    "#    eval_metric = nlog_like_sk,\n",
    "    verbose = 50\n",
    "\n",
    ")\n"
   ]
  },
  {
   "cell_type": "code",
   "execution_count": 95,
   "id": "ee3d394b",
   "metadata": {
    "ExecuteTime": {
     "end_time": "2021-11-25T20:06:32.570534Z",
     "start_time": "2021-11-25T20:06:21.830472Z"
    }
   },
   "outputs": [
    {
     "name": "stdout",
     "output_type": "stream",
     "text": [
      "[50]\ttraining's rmse: 1.38188\ttraining's l1: 0.978002\n",
      "[100]\ttraining's rmse: 1.16655\ttraining's l1: 0.749477\n",
      "[150]\ttraining's rmse: 1.14616\ttraining's l1: 0.735446\n",
      "[200]\ttraining's rmse: 1.11578\ttraining's l1: 0.737314\n",
      "[250]\ttraining's rmse: 1.08511\ttraining's l1: 0.735927\n",
      "[300]\ttraining's rmse: 1.07297\ttraining's l1: 0.759941\n",
      "[350]\ttraining's rmse: 1.0755\ttraining's l1: 0.791236\n",
      "[400]\ttraining's rmse: 1.07516\ttraining's l1: 0.806443\n",
      "[450]\ttraining's rmse: 1.06907\ttraining's l1: 0.818723\n",
      "[500]\ttraining's rmse: 1.06939\ttraining's l1: 0.833116\n",
      "[550]\ttraining's rmse: 1.07726\ttraining's l1: 0.853194\n",
      "[600]\ttraining's rmse: 1.09229\ttraining's l1: 0.875189\n",
      "[650]\ttraining's rmse: 1.12329\ttraining's l1: 0.908718\n",
      "[700]\ttraining's rmse: 1.14378\ttraining's l1: 0.925034\n",
      "[750]\ttraining's rmse: 1.17704\ttraining's l1: 0.952151\n",
      "[800]\ttraining's rmse: 1.22173\ttraining's l1: 0.991577\n",
      "[850]\ttraining's rmse: 1.24441\ttraining's l1: 1.00309\n",
      "[900]\ttraining's rmse: 1.25503\ttraining's l1: 1.0048\n",
      "[950]\ttraining's rmse: 1.29139\ttraining's l1: 1.02994\n",
      "[1000]\ttraining's rmse: 1.3332\ttraining's l1: 1.05698\n"
     ]
    },
    {
     "data": {
      "text/plain": [
       "LGBMRegressor(boosting_type='goss', importance_type='gain', learning_rate=0.01,\n",
       "              max_depth=3, metrics=['rmse', 'l1'], n_jobs=4,\n",
       "              num_iterations=1000,\n",
       "              objective=<function aft_norm at 0x12efc4e50>)"
      ]
     },
     "execution_count": 95,
     "metadata": {},
     "output_type": "execute_result"
    }
   ],
   "source": [
    "import lightgbm as lgb\n",
    "aft_model = lgb.LGBMRegressor() \n",
    "\n",
    "# updating objective function to custom\n",
    "# default is \"regression\"\n",
    "# also adding metrics to check different scores\n",
    "aft_model.set_params(**{'objective': aft_norm},\n",
    "               metrics = ['rmse', 'l1'], \n",
    "               boosting_type = \"goss\", \n",
    "               num_iterations = 1000,\n",
    "               n_jobs = 4, \n",
    "               max_depth = 3,   \n",
    "               learning_rate = 0.01,\n",
    "               importance_type = \"gain\")# early_stopping_round = 10)\n",
    "# fitting model \n",
    "aft_model.fit(\n",
    "    X,\n",
    "    y,\n",
    "    eval_set = [(X, y)], \n",
    "#    eval_metric = nlog_like_sk,\n",
    "    verbose = 50\n",
    "\n",
    ")\n",
    "\n"
   ]
  },
  {
   "cell_type": "code",
   "execution_count": 15,
   "id": "34ee64fb",
   "metadata": {
    "ExecuteTime": {
     "end_time": "2021-11-25T09:48:07.307092Z",
     "start_time": "2021-11-25T09:48:07.108874Z"
    }
   },
   "outputs": [
    {
     "data": {
      "image/png": "[encoded data removed]",
      "text/plain": [
       "<Figure size 432x288 with 1 Axes>"
      ]
     },
     "metadata": {
      "needs_background": "light"
     },
     "output_type": "display_data"
    }
   ],
   "source": [
    "import seaborn as sns\n",
    "sns.distplot(np.exp(y.loc[df['status'] == 1]))\n",
    "\n",
    "true = np.exp(y.loc[df['status'] == 1])"
   ]
  },
  {
   "cell_type": "code",
   "execution_count": 16,
   "id": "d1cf6930",
   "metadata": {
    "ExecuteTime": {
     "end_time": "2021-11-25T09:48:12.140065Z",
     "start_time": "2021-11-25T09:48:12.024791Z"
    }
   },
   "outputs": [
    {
     "data": {
      "text/plain": [
       "<AxesSubplot:ylabel='Density'>"
      ]
     },
     "execution_count": 16,
     "metadata": {},
     "output_type": "execute_result"
    },
    {
     "data": {
      "image/png": "[encoded data removed]",
      "text/plain": [
       "<Figure size 432x288 with 1 Axes>"
      ]
     },
     "metadata": {
      "needs_background": "light"
     },
     "output_type": "display_data"
    }
   ],
   "source": [
    "pred = np.exp(aft_model.predict(X))\n",
    "pred = pd.Series(pred).loc[df['status'] == 1]\n",
    "sns.distplot(pred)"
   ]
  },
  {
   "cell_type": "code",
   "execution_count": 161,
   "id": "2856a43d",
   "metadata": {
    "ExecuteTime": {
     "end_time": "2021-11-23T22:22:09.916374Z",
     "start_time": "2021-11-23T22:22:09.908358Z"
    }
   },
   "outputs": [
    {
     "data": {
      "text/plain": [
       "4       True\n",
       "5       True\n",
       "6       True\n",
       "7      False\n",
       "8      False\n",
       "       ...  \n",
       "234    False\n",
       "235     True\n",
       "236    False\n",
       "238    False\n",
       "239    False\n",
       "Name: time, Length: 138, dtype: bool"
      ]
     },
     "execution_count": 161,
     "metadata": {},
     "output_type": "execute_result"
    }
   ],
   "source": [
    "b"
   ]
  },
  {
   "cell_type": "code",
   "execution_count": 17,
   "id": "a73a755a",
   "metadata": {
    "ExecuteTime": {
     "end_time": "2021-11-25T09:48:25.041021Z",
     "start_time": "2021-11-25T09:48:25.028508Z"
    }
   },
   "outputs": [],
   "source": [
    "b = true < np.median(true)\n",
    "a = pd.Series(data = None, index = b.index)\n",
    "\n",
    "a[b] = 0\n",
    "a[~b] = 1\n"
   ]
  },
  {
   "cell_type": "code",
   "execution_count": 18,
   "id": "5d428cfc",
   "metadata": {
    "ExecuteTime": {
     "end_time": "2021-11-25T09:48:51.207404Z",
     "start_time": "2021-11-25T09:48:51.188708Z"
    }
   },
   "outputs": [
    {
     "data": {
      "text/html": [
       "<div>\n",
       "<style scoped>\n",
       "    .dataframe tbody tr th:only-of-type {\n",
       "        vertical-align: middle;\n",
       "    }\n",
       "\n",
       "    .dataframe tbody tr th {\n",
       "        vertical-align: top;\n",
       "    }\n",
       "\n",
       "    .dataframe thead th {\n",
       "        text-align: right;\n",
       "    }\n",
       "</style>\n",
       "<table border=\"1\" class=\"dataframe\">\n",
       "  <thead>\n",
       "    <tr style=\"text-align: right;\">\n",
       "      <th></th>\n",
       "      <th>true</th>\n",
       "      <th>pred</th>\n",
       "    </tr>\n",
       "  </thead>\n",
       "  <tbody>\n",
       "    <tr>\n",
       "      <th>4</th>\n",
       "      <td>0.0</td>\n",
       "      <td>0.0</td>\n",
       "    </tr>\n",
       "    <tr>\n",
       "      <th>5</th>\n",
       "      <td>0.0</td>\n",
       "      <td>0.0</td>\n",
       "    </tr>\n",
       "    <tr>\n",
       "      <th>6</th>\n",
       "      <td>0.0</td>\n",
       "      <td>0.0</td>\n",
       "    </tr>\n",
       "    <tr>\n",
       "      <th>7</th>\n",
       "      <td>1.0</td>\n",
       "      <td>1.0</td>\n",
       "    </tr>\n",
       "    <tr>\n",
       "      <th>8</th>\n",
       "      <td>1.0</td>\n",
       "      <td>1.0</td>\n",
       "    </tr>\n",
       "    <tr>\n",
       "      <th>...</th>\n",
       "      <td>...</td>\n",
       "      <td>...</td>\n",
       "    </tr>\n",
       "    <tr>\n",
       "      <th>234</th>\n",
       "      <td>1.0</td>\n",
       "      <td>1.0</td>\n",
       "    </tr>\n",
       "    <tr>\n",
       "      <th>235</th>\n",
       "      <td>0.0</td>\n",
       "      <td>0.0</td>\n",
       "    </tr>\n",
       "    <tr>\n",
       "      <th>236</th>\n",
       "      <td>1.0</td>\n",
       "      <td>1.0</td>\n",
       "    </tr>\n",
       "    <tr>\n",
       "      <th>238</th>\n",
       "      <td>1.0</td>\n",
       "      <td>1.0</td>\n",
       "    </tr>\n",
       "    <tr>\n",
       "      <th>239</th>\n",
       "      <td>1.0</td>\n",
       "      <td>1.0</td>\n",
       "    </tr>\n",
       "  </tbody>\n",
       "</table>\n",
       "<p>138 rows × 2 columns</p>\n",
       "</div>"
      ],
      "text/plain": [
       "     true  pred\n",
       "4     0.0   0.0\n",
       "5     0.0   0.0\n",
       "6     0.0   0.0\n",
       "7     1.0   1.0\n",
       "8     1.0   1.0\n",
       "..    ...   ...\n",
       "234   1.0   1.0\n",
       "235   0.0   0.0\n",
       "236   1.0   1.0\n",
       "238   1.0   1.0\n",
       "239   1.0   1.0\n",
       "\n",
       "[138 rows x 2 columns]"
      ]
     },
     "execution_count": 18,
     "metadata": {},
     "output_type": "execute_result"
    }
   ],
   "source": [
    "c = pred < np.median(pred)\n",
    "d = pd.Series(index = c.index)\n",
    "d[c] = 0\n",
    "d[~c] = 1\n",
    "pd.DataFrame({'true': a, 'pred': d})"
   ]
  },
  {
   "cell_type": "code",
   "execution_count": 19,
   "id": "5901823e",
   "metadata": {
    "ExecuteTime": {
     "end_time": "2021-11-25T09:48:57.158270Z",
     "start_time": "2021-11-25T09:48:57.150282Z"
    }
   },
   "outputs": [
    {
     "data": {
      "text/plain": [
       "array([[62,  7],\n",
       "       [ 7, 62]])"
      ]
     },
     "execution_count": 19,
     "metadata": {},
     "output_type": "execute_result"
    }
   ],
   "source": [
    "from sklearn.metrics import confusion_matrix, mean_absolute_percentage_error\n",
    "\n",
    "confusion_matrix(a,d)"
   ]
  },
  {
   "cell_type": "code",
   "execution_count": 20,
   "id": "b7d7015a",
   "metadata": {
    "ExecuteTime": {
     "end_time": "2021-11-25T09:49:00.401894Z",
     "start_time": "2021-11-25T09:49:00.396596Z"
    }
   },
   "outputs": [
    {
     "data": {
      "text/plain": [
       "2.191910441280388"
      ]
     },
     "execution_count": 20,
     "metadata": {},
     "output_type": "execute_result"
    }
   ],
   "source": [
    "mean_absolute_percentage_error(true,pred)"
   ]
  },
  {
   "cell_type": "code",
   "execution_count": 21,
   "id": "9f189001",
   "metadata": {
    "ExecuteTime": {
     "end_time": "2021-11-25T09:49:02.731184Z",
     "start_time": "2021-11-25T09:49:02.725435Z"
    }
   },
   "outputs": [
    {
     "data": {
      "text/plain": [
       "array([False, False, False, ..., False, False, False])"
      ]
     },
     "execution_count": 21,
     "metadata": {},
     "output_type": "execute_result"
    }
   ],
   "source": [
    "q = aft_model.feature_importances_ > np.quantile(aft_model.feature_importances_, 0.95)\n",
    "q"
   ]
  },
  {
   "cell_type": "code",
   "execution_count": null,
   "id": "8d941368",
   "metadata": {
    "ExecuteTime": {
     "end_time": "2021-11-23T22:32:26.030035Z",
     "start_time": "2021-11-23T22:32:26.010464Z"
    }
   },
   "outputs": [],
   "source": []
  },
  {
   "cell_type": "code",
   "execution_count": null,
   "id": "114d9a82",
   "metadata": {},
   "outputs": [],
   "source": []
  },
  {
   "cell_type": "markdown",
   "id": "04f67f10",
   "metadata": {},
   "source": [
    "## log logistic (Z ~ logistic(0,1))"
   ]
  },
  {
   "cell_type": "code",
   "execution_count": 41,
   "id": "f86e813b",
   "metadata": {
    "ExecuteTime": {
     "end_time": "2021-11-25T10:10:39.403826Z",
     "start_time": "2021-11-25T10:10:39.401030Z"
    }
   },
   "outputs": [],
   "source": [
    "#class logistic_dist:\n",
    "    \n",
    "    \n",
    "#    def __init__(self, Z, scale):\n",
    "\n",
    "#        self.Z = Z\n",
    "#        self.b = scale\n",
    "        \n",
    "    "
   ]
  },
  {
   "cell_type": "code",
   "execution_count": 115,
   "id": "b884d568",
   "metadata": {
    "ExecuteTime": {
     "end_time": "2021-11-25T20:43:51.929875Z",
     "start_time": "2021-11-25T20:43:51.911347Z"
    }
   },
   "outputs": [],
   "source": [
    "def logistic_pdf1(Z):\n",
    "    exp = np.vectorize(np.exp)\n",
    "    w = exp(Z)\n",
    "    sqrt_denominator = 1 + w\n",
    "    if (np.isinf(w) or np.isinf(w * w)):\n",
    "        return (0.0)\n",
    "    else:\n",
    "        return w / (sqrt_denominator * sqrt_denominator)\n",
    "\n",
    "logistic_pdf = np.vectorize(logistic_pdf1)    \n",
    "           \n",
    "def logistic_cdf1(Z):\n",
    "    exp = np.vectorize(np.exp)\n",
    "    w = exp(Z)\n",
    "    if(np.isinf(w)):\n",
    "        return(1.0)\n",
    "    else:  \n",
    "        return((w / (1 + w))) \n",
    "    \n",
    "logistic_cdf = np.vectorize(logistic_cdf1)    \n",
    "\n",
    "\n",
    "    \n",
    "def logistic_grad1(Z):\n",
    "    exp = np.vectorize(np.exp)\n",
    "    w = exp(Z)\n",
    "        \n",
    "    if (np.isinf(w) or np.isinf(w * w)):\n",
    "        return (0.0)\n",
    "    else:\n",
    "        return (logistic_pdf(Z) * ((1 - w) / (1 + w)))\n",
    "\n",
    "logistic_grad = np.vectorize(logistic_grad1)    \n",
    "        \n",
    "\n",
    "def logistic_hess1(Z):\n",
    "    exp = np.vectorize(np.exp)\n",
    "    w = exp(Z)\n",
    "    sqrt_denominator = 1 + w\n",
    "        \n",
    "    if (np.isinf(w) or np.isinf(w * w)):\n",
    "        return (0.0)\n",
    "    else:\n",
    "        return (logistic_pdf(Z) * ((w * w - 4 * w + 1.0) / (sqrt_denominator * sqrt_denominator)))\n",
    "\n",
    "logistic_hess = np.vectorize(logistic_hess1)    \n",
    "        \n",
    "     \n",
    "    #@property\n",
    "def logistic_gnumerator_u(Z):\n",
    "    return(logistic_grad(Z))\n",
    "    \n",
    "    #@property\n",
    "def logistic_gdenominator_u(Z, b):\n",
    "    return(b * logistic_pdf(Z))\n",
    "    \n",
    "    #@property\n",
    "def logistic_gnumerator_c(Z): \n",
    "    return(- logistic_pdf(Z))\n",
    "    \n",
    "    #@property\n",
    "def logistic_gdenominator_c(Z, b): \n",
    "    return(b * (1.0 - logistic_cdf(Z)))\n",
    "    \n",
    "    #@property\n",
    "def logistic_hnumerator_u(Z):\n",
    "    return((logistic_grad(Z) * logistic_grad(Z)) - logistic_pdf(Z) * logistic_hess(Z))\n",
    "        \n",
    "    #@property\n",
    "def logistic_hdenominator_u(Z, b):\n",
    "    return((b * b * logistic_pdf(Z) * logistic_pdf(Z)))\n",
    "    \n",
    "    #@property\n",
    "def logistic_hnumerator_c(Z):\n",
    "    return((logistic_pdf(Z) * logistic_pdf(Z)) - ((1.0 - logistic_cdf(Z)) * - logistic_grad(Z)))\n",
    "    \n",
    "    #@property\n",
    "def logistic_hdenominator_c(Z, b):\n",
    "    return((b * b * (1.0 - logistic_cdf(Z))*(1.0 - logistic_cdf(Z))))\n",
    "\n",
    "\n",
    "        \n",
    "        \n",
    "        \n",
    "\n",
    "\n"
   ]
  },
  {
   "cell_type": "markdown",
   "id": "2c82b227",
   "metadata": {},
   "source": [
    "# Get gradient and hessian (log-logistic)"
   ]
  },
  {
   "cell_type": "code",
   "execution_count": 116,
   "id": "e29b9403",
   "metadata": {
    "ExecuteTime": {
     "end_time": "2021-11-25T20:43:53.519133Z",
     "start_time": "2021-11-25T20:43:53.507598Z"
    }
   },
   "outputs": [],
   "source": [
    "def logistic_getgrad1(z_value, sigma, grad_numerator_u, grad_denominator_u,\n",
    "                        grad_numerator_c, grad_denominator_c):\n",
    "    \n",
    "    z_sign = z_value > 0.0 \n",
    "    \n",
    "    grad_u = zero_division(num = grad_numerator_u, deno = grad_denominator_u)\n",
    "    grad_c = zero_division(num = grad_numerator_c, deno = grad_denominator_c)\n",
    "\n",
    "        \n",
    "    if(grad_denominator_u < kEps or np.isinf(grad_u) or np.isnan(grad_u)):\n",
    "        if (z_sign):\n",
    "            grad_u = 1/sigma\n",
    "        else:\n",
    "            grad_u = -1/sigma\n",
    "                    \n",
    "    if(grad_denominator_c < kEps or np.isinf(grad_c) or np.isnan(grad_c)):\n",
    "        if (z_sign):\n",
    "            grad_c = 0.0\n",
    "        else:\n",
    "            grad_c = -1/sigma   \n",
    "                \n",
    "    return(grad_u, grad_c)   \n",
    "\n",
    "\n",
    "\n",
    "def logistic_gethess1(z_value, sigma, hess_numerator_u, hess_denominator_u,\n",
    "                        hess_numerator_c, hess_denominator_c):\n",
    "    \n",
    "    z_sign = z_value > 0.0 \n",
    "    hess_u = zero_division(num = hess_numerator_u, deno = hess_denominator_u)\n",
    "    hess_c = zero_division(num = hess_numerator_c, deno = hess_denominator_c)\n",
    "\n",
    "\n",
    "    if(hess_denominator_u < kEps or np.isinf(hess_u) or np.isnan(hess_u)):\n",
    "        if (z_sign):\n",
    "            hess_u = kMinHessian\n",
    "        else:\n",
    "            hess_u = kMinHessian\n",
    "                    \n",
    "    if(hess_denominator_c < kEps or np.isinf(hess_c) or np.isnan(hess_c)):\n",
    "        if (z_sign):\n",
    "            hess_c = kMinHessian\n",
    "        else:\n",
    "            hess_c = kMinHessian  \n",
    "                \n",
    "    return(hess_u, hess_c)   \n",
    "\n",
    "    \n",
    "logistic_getgrad = np.vectorize(logistic_getgrad1)\n",
    "logistic_gethess = np.vectorize(logistic_gethess1)\n",
    "\n"
   ]
  },
  {
   "cell_type": "code",
   "execution_count": null,
   "id": "37d28cbd",
   "metadata": {},
   "outputs": [],
   "source": []
  },
  {
   "cell_type": "code",
   "execution_count": 113,
   "id": "091e0636",
   "metadata": {
    "ExecuteTime": {
     "end_time": "2021-11-25T20:43:45.369249Z",
     "start_time": "2021-11-25T20:43:45.358752Z"
    }
   },
   "outputs": [],
   "source": [
    "def aft_logistic (y_true, y_pred):\n",
    "    \n",
    "        \n",
    "    b = 2.0\n",
    "    z = (y_true - y_pred)/b\n",
    "    \n",
    "    #s = logistic_dist(Z = z, scale = b)    \n",
    "    gradient_u, gradient_c = logistic_getgrad(z_value = z, sigma = b, grad_numerator_u = logistic_gnumerator_u(z), \n",
    "                                             grad_denominator_u = logistic_gdenominator_u(z, b),\n",
    "                                             grad_numerator_c = logistic_gnumerator_c(z), \n",
    "                                             grad_denominator_c = logistic_gdenominator_c(z,b))\n",
    "    g = ind_train * gradient_u + (1 - ind_train) * gradient_c\n",
    "    grad = regularization(t = g, t_min = kMinGradient, t_max = kMaxGradient)\n",
    "    \n",
    "    \n",
    "    hessian_u, hessian_c = logistic_gethess(z_value = z, sigma = b, hess_numerator_u = logistic_hnumerator_u(z), \n",
    "                                           hess_denominator_u = logistic_hdenominator_u(z, b), \n",
    "                                           hess_numerator_c = logistic_hnumerator_c(z), \n",
    "                                           hess_denominator_c = logistic_hdenominator_c(z, b))\n",
    "\n",
    "    h = ind_train*hessian_u + (1 - ind_train)*hessian_c\n",
    "    \n",
    "    hess = regularization(t = h, t_min = kMinHessian, t_max = kMaxHessian)\n",
    "\n",
    "    \n",
    "    return grad, hess\n",
    "\n"
   ]
  },
  {
   "cell_type": "code",
   "execution_count": 117,
   "id": "3ab1de69",
   "metadata": {
    "ExecuteTime": {
     "end_time": "2021-11-25T20:44:34.323033Z",
     "start_time": "2021-11-25T20:43:56.397273Z"
    }
   },
   "outputs": [
    {
     "name": "stdout",
     "output_type": "stream",
     "text": [
      "[10]\ttraining's rmse: 1.71151\ttraining's l1: 1.30585\n",
      "[20]\ttraining's rmse: 1.5814\ttraining's l1: 1.16072\n",
      "[30]\ttraining's rmse: 1.47441\ttraining's l1: 1.03782\n",
      "[40]\ttraining's rmse: 1.39385\ttraining's l1: 0.93531\n",
      "[50]\ttraining's rmse: 1.33721\ttraining's l1: 0.859448\n",
      "[60]\ttraining's rmse: 1.30323\ttraining's l1: 0.814219\n",
      "[70]\ttraining's rmse: 1.28446\ttraining's l1: 0.79541\n",
      "[80]\ttraining's rmse: 1.27989\ttraining's l1: 0.796909\n",
      "[90]\ttraining's rmse: 1.2828\ttraining's l1: 0.807933\n",
      "[100]\ttraining's rmse: 1.29323\ttraining's l1: 0.83043\n",
      "[110]\ttraining's rmse: 1.30805\ttraining's l1: 0.853232\n",
      "[120]\ttraining's rmse: 1.32415\ttraining's l1: 0.876305\n",
      "[130]\ttraining's rmse: 1.34281\ttraining's l1: 0.897842\n",
      "[140]\ttraining's rmse: 1.35829\ttraining's l1: 0.915314\n",
      "[150]\ttraining's rmse: 1.3742\ttraining's l1: 0.937435\n",
      "[160]\ttraining's rmse: 1.39023\ttraining's l1: 0.959549\n",
      "[170]\ttraining's rmse: 1.39974\ttraining's l1: 0.977231\n",
      "[180]\ttraining's rmse: 1.41508\ttraining's l1: 0.996277\n",
      "[190]\ttraining's rmse: 1.43767\ttraining's l1: 1.02675\n",
      "[200]\ttraining's rmse: 1.42902\ttraining's l1: 1.02138\n",
      "[210]\ttraining's rmse: 1.43888\ttraining's l1: 1.03604\n",
      "[220]\ttraining's rmse: 1.45943\ttraining's l1: 1.06126\n",
      "[230]\ttraining's rmse: 1.46592\ttraining's l1: 1.06737\n",
      "[240]\ttraining's rmse: 1.47157\ttraining's l1: 1.07323\n",
      "[250]\ttraining's rmse: 1.49018\ttraining's l1: 1.09571\n",
      "[260]\ttraining's rmse: 1.48945\ttraining's l1: 1.09869\n",
      "[270]\ttraining's rmse: 1.48696\ttraining's l1: 1.099\n",
      "[280]\ttraining's rmse: 1.49921\ttraining's l1: 1.11606\n",
      "[290]\ttraining's rmse: 1.50901\ttraining's l1: 1.12424\n",
      "[300]\ttraining's rmse: 1.51474\ttraining's l1: 1.13364\n",
      "[310]\ttraining's rmse: 1.52425\ttraining's l1: 1.14146\n",
      "[320]\ttraining's rmse: 1.53474\ttraining's l1: 1.15418\n",
      "[330]\ttraining's rmse: 1.54619\ttraining's l1: 1.16952\n",
      "[340]\ttraining's rmse: 1.56163\ttraining's l1: 1.18958\n",
      "[350]\ttraining's rmse: 1.56192\ttraining's l1: 1.19185\n",
      "[360]\ttraining's rmse: 1.57881\ttraining's l1: 1.20562\n",
      "[370]\ttraining's rmse: 1.57864\ttraining's l1: 1.20537\n",
      "[380]\ttraining's rmse: 1.58144\ttraining's l1: 1.21063\n",
      "[390]\ttraining's rmse: 1.5793\ttraining's l1: 1.21092\n",
      "[400]\ttraining's rmse: 1.57664\ttraining's l1: 1.20721\n",
      "[410]\ttraining's rmse: 1.59111\ttraining's l1: 1.21794\n",
      "[420]\ttraining's rmse: 1.59975\ttraining's l1: 1.22417\n",
      "[430]\ttraining's rmse: 1.617\ttraining's l1: 1.24089\n",
      "[440]\ttraining's rmse: 1.60862\ttraining's l1: 1.23403\n",
      "[450]\ttraining's rmse: 1.62513\ttraining's l1: 1.24962\n",
      "[460]\ttraining's rmse: 1.63243\ttraining's l1: 1.25446\n",
      "[470]\ttraining's rmse: 1.6403\ttraining's l1: 1.2613\n",
      "[480]\ttraining's rmse: 1.64125\ttraining's l1: 1.25953\n",
      "[490]\ttraining's rmse: 1.65985\ttraining's l1: 1.27893\n",
      "[500]\ttraining's rmse: 1.67382\ttraining's l1: 1.29026\n"
     ]
    },
    {
     "data": {
      "text/plain": [
       "LGBMRegressor(boosting_type='goss', importance_type='gain', learning_rate=0.01,\n",
       "              max_depth=3, metrics=['rmse', 'l1'], n_jobs=4, num_iterations=500,\n",
       "              objective=<function aft_logistic at 0x13bbcbee0>)"
      ]
     },
     "execution_count": 117,
     "metadata": {},
     "output_type": "execute_result"
    }
   ],
   "source": [
    "aft_model = lgb.LGBMRegressor() \n",
    "\n",
    "# updating objective function to custom\n",
    "# default is \"regression\"\n",
    "# also adding metrics to check different scores\n",
    "aft_model.set_params(**{'objective': aft_logistic},\n",
    "               metrics = ['rmse', 'l1'], \n",
    "               boosting_type = \"goss\", \n",
    "               num_iterations = 500,\n",
    "               n_jobs = 4, \n",
    "               max_depth = 3,   \n",
    "               learning_rate = 0.01,\n",
    "               importance_type = \"gain\")# early_stopping_round = 10)\n",
    "# fitting model \n",
    "aft_model.fit(\n",
    "    X,\n",
    "    y,\n",
    "    eval_set = [(X, y)], \n",
    "#    eval_metric = nlog_like_sk,\n",
    "    verbose = 10\n",
    "\n",
    ")\n",
    "\n",
    "\n"
   ]
  },
  {
   "cell_type": "code",
   "execution_count": null,
   "id": "9d705f50",
   "metadata": {},
   "outputs": [],
   "source": []
  },
  {
   "cell_type": "markdown",
   "id": "bdbbb741",
   "metadata": {},
   "source": [
    "## Weibull (Z ~ EV(0,1))\n"
   ]
  },
  {
   "cell_type": "code",
   "execution_count": 106,
   "id": "e34aca62",
   "metadata": {
    "ExecuteTime": {
     "end_time": "2021-11-25T20:38:57.761953Z",
     "start_time": "2021-11-25T20:38:57.745112Z"
    }
   },
   "outputs": [],
   "source": [
    "\n",
    "def extreme_pdf1(Z):\n",
    "    exp = np.vectorize(np.exp)\n",
    "    w = exp(Z)\n",
    "    if(np.isinf(w)):\n",
    "        return (0.0)\n",
    "    else:\n",
    "        return(w * np.exp(-w))\n",
    "extreme_pdf = np.vectorize(extreme_pdf1)    \n",
    "    \n",
    "    \n",
    "def extreme_cdf1(Z):\n",
    "    exp = np.vectorize(np.exp)\n",
    "    w = exp(Z)\n",
    "    if(np.isinf(w)):\n",
    "        return (1.0)\n",
    "    else:\n",
    "        return(1 - exp(-w))\n",
    "extreme_cdf = np.vectorize(extreme_cdf1)    \n",
    "\n",
    "\n",
    "def extreme_grad1(Z):\n",
    "    exp = np.vectorize(np.exp)\n",
    "    w = exp(Z)\n",
    "    if(np.isinf(w)):\n",
    "        return (0.0)\n",
    "    else:\n",
    "        return extreme_pdf(Z) * (1.0 - w)\n",
    "extreme_grad = np.vectorize(extreme_grad1)    \n",
    "\n",
    "    \n",
    "def extreme_hess1(Z):\n",
    "    exp = np.vectorize(np.exp)\n",
    "    w = exp(Z)\n",
    "    if(np.isinf(w)):\n",
    "        return (0.0)\n",
    "    else:\n",
    "        return extreme_pdf(Z) * (1.0 - 3 * w + w * w)\n",
    "extreme_hess = np.vectorize(extreme_hess1)    \n",
    "\n",
    "    \n",
    "    \n",
    "    \n",
    "#    @property\n",
    "def extreme_gnumerator_u(Z):\n",
    "    return(extreme_grad(Z))\n",
    "    \n",
    "#    @property\n",
    "def extreme_gdenominator_u(Z, b):\n",
    "    return(b * extreme_pdf(Z))\n",
    "    \n",
    "#    @property\n",
    "def extreme_gnumerator_c(Z): \n",
    "    return(- extreme_pdf(Z))\n",
    "    \n",
    "#    @property\n",
    "def extreme_gdenominator_c(Z, b): \n",
    "    return(b * (1.0 - extreme_cdf(Z)))\n",
    "    \n",
    "#    @property\n",
    "def extreme_hnumerator_u(Z):\n",
    "    return((extreme_grad(Z) * extreme_grad(Z)) - extreme_pdf(Z) * extreme_hess(Z))\n",
    "        \n",
    "#    @property\n",
    "def extreme_hdenominator_u(Z, b):\n",
    "    return((b*b * extreme_pdf(Z)*extreme_pdf(Z)))\n",
    "    \n",
    "#    @property\n",
    "def extreme_hnumerator_c(Z):\n",
    "    return((extreme_pdf(Z) * extreme_pdf(Z)) - ((1.0 - extreme_cdf(Z))* - extreme_grad(Z)))\n",
    "    \n",
    "#    @property\n",
    "def extreme_hdenominator_c(Z, b):\n",
    "    return((b*b * (1.0 - extreme_cdf(Z))*(1.0 - extreme_cdf(Z))))\n",
    "\n",
    "\n",
    "        \n",
    "        \n",
    "        \n",
    "\n",
    "\n",
    "\n",
    "    "
   ]
  },
  {
   "cell_type": "code",
   "execution_count": 100,
   "id": "bfec1311",
   "metadata": {
    "ExecuteTime": {
     "end_time": "2021-11-25T20:32:30.707899Z",
     "start_time": "2021-11-25T20:32:30.704195Z"
    }
   },
   "outputs": [
    {
     "data": {
      "text/plain": [
       "15.0"
      ]
     },
     "execution_count": 100,
     "metadata": {},
     "output_type": "execute_result"
    }
   ],
   "source": [
    "kMaxHessian"
   ]
  },
  {
   "cell_type": "code",
   "execution_count": 107,
   "id": "5d5bbf26",
   "metadata": {
    "ExecuteTime": {
     "end_time": "2021-11-25T20:39:01.153988Z",
     "start_time": "2021-11-25T20:39:01.141025Z"
    }
   },
   "outputs": [],
   "source": [
    "def extreme_getgrad1(z_value, sigma, grad_numerator_u, grad_denominator_u,\n",
    "                        grad_numerator_c, grad_denominator_c):\n",
    "    \n",
    "    z_sign = z_value > 0.0 \n",
    "    \n",
    "    grad_u = zero_division(num = grad_numerator_u, deno = grad_denominator_u)\n",
    "    grad_c = zero_division(num = grad_numerator_c, deno = grad_denominator_c)\n",
    "\n",
    "        \n",
    "    if(grad_denominator_u < kEps or np.isinf(grad_u) or np.isnan(grad_u)):\n",
    "        if (z_sign):\n",
    "            grad_u = 1/sigma\n",
    "        else:\n",
    "            grad_u = kMinGradient\n",
    "                    \n",
    "    if(grad_denominator_c < kEps or np.isinf(grad_c) or np.isnan(grad_c)):\n",
    "        if (z_sign):\n",
    "            grad_c = 0.0\n",
    "        else:\n",
    "            grad_c = kMinGradient \n",
    "                \n",
    "    return(grad_u, grad_c)   \n",
    "\n",
    "\n",
    "\n",
    "def extreme_gethess1(z_value, sigma, hess_numerator_u, hess_denominator_u,\n",
    "                        hess_numerator_c, hess_denominator_c):\n",
    "    \n",
    "    z_sign = z_value > 0.0 \n",
    "    hess_u = zero_division(num = hess_numerator_u, deno = hess_denominator_u)\n",
    "    hess_c = zero_division(num = hess_numerator_c, deno = hess_denominator_c)\n",
    "\n",
    "\n",
    "    if(hess_denominator_u < kEps or np.isinf(hess_u) or np.isnan(hess_u)):\n",
    "        if (z_sign):\n",
    "            hess_u = kMinHessian\n",
    "        else:\n",
    "            hess_u = kMaxHessian\n",
    "                    \n",
    "    if(hess_denominator_c < kEps or np.isinf(hess_c) or np.isnan(hess_c)):\n",
    "        if (z_sign):\n",
    "            hess_c = kMinHessian\n",
    "        else:\n",
    "            hess_c = kMaxHessian  \n",
    "                \n",
    "    return(hess_u, hess_c)   \n",
    "\n",
    "    \n",
    "extreme_getgrad = np.vectorize(extreme_getgrad1)\n",
    "extreme_gethess = np.vectorize(extreme_gethess1)\n",
    "\n",
    "\n"
   ]
  },
  {
   "cell_type": "code",
   "execution_count": 110,
   "id": "5a069708",
   "metadata": {
    "ExecuteTime": {
     "end_time": "2021-11-25T20:39:18.915079Z",
     "start_time": "2021-11-25T20:39:18.904862Z"
    }
   },
   "outputs": [],
   "source": [
    "def aft_weibull (y_true, y_pred):\n",
    "    \n",
    "        \n",
    "    b = 2.0\n",
    "    z = (y_true - y_pred)/b\n",
    "    \n",
    "    #s = logistic_dist(Z = z, scale = b)    \n",
    "    gradient_u, gradient_c = extreme_getgrad(z_value = z, sigma = b, grad_numerator_u = extreme_gnumerator_u(z), \n",
    "                                             grad_denominator_u = extreme_gdenominator_u(z, b),\n",
    "                                             grad_numerator_c = extreme_gnumerator_c(z), \n",
    "                                             grad_denominator_c = extreme_gdenominator_c(z,b))\n",
    "    g = ind_train * gradient_u + (1 - ind_train) * gradient_c\n",
    "    grad = regularization(t = g, t_min = kMinGradient, t_max = kMaxGradient)\n",
    "    \n",
    "    \n",
    "    hessian_u, hessian_c = extreme_gethess(z_value = z, sigma = b, hess_numerator_u = extreme_hnumerator_u(z), \n",
    "                                           hess_denominator_u = extreme_hdenominator_u(z, b), \n",
    "                                           hess_numerator_c = extreme_hnumerator_c(z), \n",
    "                                           hess_denominator_c = extreme_hdenominator_c(z, b))\n",
    "\n",
    "    h = ind_train*hessian_u + (1 - ind_train)*hessian_c\n",
    "    \n",
    "    hess = regularization(t = h, t_min = kMinHessian, t_max = kMaxHessian)\n",
    "\n",
    "    \n",
    "    return grad, hess\n",
    "\n",
    "\n"
   ]
  },
  {
   "cell_type": "code",
   "execution_count": 111,
   "id": "e213c431",
   "metadata": {
    "ExecuteTime": {
     "end_time": "2021-11-25T20:39:56.221525Z",
     "start_time": "2021-11-25T20:39:20.012674Z"
    }
   },
   "outputs": [
    {
     "name": "stdout",
     "output_type": "stream",
     "text": [
      "[10]\ttraining's rmse: 1.79943\ttraining's l1: 1.39631\n",
      "[20]\ttraining's rmse: 1.7386\ttraining's l1: 1.32935\n",
      "[30]\ttraining's rmse: 1.68369\ttraining's l1: 1.26829\n",
      "[40]\ttraining's rmse: 1.63406\ttraining's l1: 1.21172\n",
      "[50]\ttraining's rmse: 1.58927\ttraining's l1: 1.1577\n",
      "[60]\ttraining's rmse: 1.55229\ttraining's l1: 1.10624\n",
      "[70]\ttraining's rmse: 1.52016\ttraining's l1: 1.056\n",
      "[80]\ttraining's rmse: 1.49054\ttraining's l1: 1.00647\n",
      "[90]\ttraining's rmse: 1.46583\ttraining's l1: 0.965932\n",
      "[100]\ttraining's rmse: 1.44521\ttraining's l1: 0.93365\n",
      "[110]\ttraining's rmse: 1.45648\ttraining's l1: 0.928056\n",
      "[120]\ttraining's rmse: 1.47706\ttraining's l1: 0.929236\n",
      "[130]\ttraining's rmse: 1.48943\ttraining's l1: 0.933563\n",
      "[140]\ttraining's rmse: 1.51722\ttraining's l1: 0.945868\n",
      "[150]\ttraining's rmse: 1.54163\ttraining's l1: 0.961288\n",
      "[160]\ttraining's rmse: 1.56039\ttraining's l1: 0.975968\n",
      "[170]\ttraining's rmse: 1.58745\ttraining's l1: 1.00195\n",
      "[180]\ttraining's rmse: 1.61268\ttraining's l1: 1.0321\n",
      "[190]\ttraining's rmse: 1.63633\ttraining's l1: 1.06364\n",
      "[200]\ttraining's rmse: 1.65776\ttraining's l1: 1.09541\n",
      "[210]\ttraining's rmse: 1.68219\ttraining's l1: 1.13515\n",
      "[220]\ttraining's rmse: 1.71421\ttraining's l1: 1.18271\n",
      "[230]\ttraining's rmse: 1.74085\ttraining's l1: 1.22457\n",
      "[240]\ttraining's rmse: 1.76151\ttraining's l1: 1.26024\n",
      "[250]\ttraining's rmse: 1.78652\ttraining's l1: 1.30098\n",
      "[260]\ttraining's rmse: 1.81104\ttraining's l1: 1.34085\n",
      "[270]\ttraining's rmse: 1.81999\ttraining's l1: 1.3604\n",
      "[280]\ttraining's rmse: 1.85328\ttraining's l1: 1.4054\n",
      "[290]\ttraining's rmse: 1.86791\ttraining's l1: 1.43161\n",
      "[300]\ttraining's rmse: 1.88651\ttraining's l1: 1.46213\n",
      "[310]\ttraining's rmse: 1.90472\ttraining's l1: 1.48909\n",
      "[320]\ttraining's rmse: 1.93356\ttraining's l1: 1.52413\n",
      "[330]\ttraining's rmse: 1.95405\ttraining's l1: 1.55467\n",
      "[340]\ttraining's rmse: 1.97448\ttraining's l1: 1.58413\n",
      "[350]\ttraining's rmse: 1.99462\ttraining's l1: 1.60937\n",
      "[360]\ttraining's rmse: 2.00969\ttraining's l1: 1.63268\n",
      "[370]\ttraining's rmse: 2.02549\ttraining's l1: 1.65163\n",
      "[380]\ttraining's rmse: 2.01983\ttraining's l1: 1.64975\n",
      "[390]\ttraining's rmse: 2.02154\ttraining's l1: 1.65289\n",
      "[400]\ttraining's rmse: 1.99585\ttraining's l1: 1.62677\n",
      "[410]\ttraining's rmse: 1.99604\ttraining's l1: 1.6292\n",
      "[420]\ttraining's rmse: 1.99753\ttraining's l1: 1.63066\n",
      "[430]\ttraining's rmse: 1.98022\ttraining's l1: 1.60928\n",
      "[440]\ttraining's rmse: 1.97861\ttraining's l1: 1.60765\n",
      "[450]\ttraining's rmse: 1.95933\ttraining's l1: 1.58856\n",
      "[460]\ttraining's rmse: 1.96968\ttraining's l1: 1.59894\n",
      "[470]\ttraining's rmse: 1.96167\ttraining's l1: 1.58922\n",
      "[480]\ttraining's rmse: 1.96725\ttraining's l1: 1.59593\n",
      "[490]\ttraining's rmse: 1.95763\ttraining's l1: 1.58499\n",
      "[500]\ttraining's rmse: 1.94762\ttraining's l1: 1.57382\n"
     ]
    },
    {
     "data": {
      "text/plain": [
       "LGBMRegressor(boosting_type='goss', importance_type='gain', learning_rate=0.01,\n",
       "              max_depth=3, metrics=['rmse', 'l1'], n_jobs=4, num_iterations=500,\n",
       "              objective=<function aft_weibull at 0x12efcaaf0>)"
      ]
     },
     "execution_count": 111,
     "metadata": {},
     "output_type": "execute_result"
    }
   ],
   "source": [
    "aft_model = lgb.LGBMRegressor() \n",
    "\n",
    "# updating objective function to custom\n",
    "# default is \"regression\"\n",
    "# also adding metrics to check different scores\n",
    "aft_model.set_params(**{'objective': aft_weibull},\n",
    "               metrics = ['rmse', 'l1'], \n",
    "               boosting_type = \"goss\", \n",
    "               num_iterations = 500,\n",
    "               n_jobs = 4, \n",
    "               max_depth = 3,   \n",
    "               learning_rate = 0.01,\n",
    "               importance_type = \"gain\")# early_stopping_round = 10)\n",
    "# fitting model \n",
    "aft_model.fit(\n",
    "    X,\n",
    "    y,\n",
    "    eval_set = [(X, y)], \n",
    "#    eval_metric = nlog_like_sk,\n",
    "    verbose = 10\n",
    "\n",
    ")\n",
    "\n",
    "\n",
    "\n",
    "\n"
   ]
  },
  {
   "cell_type": "code",
   "execution_count": null,
   "id": "7201101d",
   "metadata": {},
   "outputs": [],
   "source": []
  }
 ],
 "metadata": {
  "hide_input": false,
  "kernelspec": {
   "display_name": "Python 3 (ipykernel)",
   "language": "python",
   "name": "python3"
  },
  "language_info": {
   "codemirror_mode": {
    "name": "ipython",
    "version": 3
   },
   "file_extension": ".py",
   "mimetype": "text/x-python",
   "name": "python",
   "nbconvert_exporter": "python",
   "pygments_lexer": "ipython3",
   "version": "3.9.7"
  },
  "latex_envs": {
   "LaTeX_envs_menu_present": true,
   "autoclose": false,
   "autocomplete": true,
   "bibliofile": "biblio.bib",
   "cite_by": "apalike",
   "current_citInitial": 1,
   "eqLabelWithNumbers": true,
   "eqNumInitial": 1,
   "hotkeys": {
    "equation": "Ctrl-E",
    "itemize": "Ctrl-I"
   },
   "labels_anchors": false,
   "latex_user_defs": false,
   "report_style_numbering": false,
   "user_envs_cfg": false
  },
  "toc": {
   "base_numbering": 1,
   "nav_menu": {},
   "number_sections": true,
   "sideBar": true,
   "skip_h1_title": false,
   "title_cell": "Table of Contents",
   "title_sidebar": "Contents",
   "toc_cell": false,
   "toc_position": {},
   "toc_section_display": true,
   "toc_window_display": false
  },
  "varInspector": {
   "cols": {
    "lenName": 16,
    "lenType": 16,
    "lenVar": 40
   },
   "kernels_config": {
    "python": {
     "delete_cmd_postfix": "",
     "delete_cmd_prefix": "del ",
     "library": "var_list.py",
     "varRefreshCmd": "print(var_dic_list())"
    },
    "r": {
     "delete_cmd_postfix": ") ",
     "delete_cmd_prefix": "rm(",
     "library": "var_list.r",
     "varRefreshCmd": "cat(var_dic_list()) "
    }
   },
   "types_to_exclude": [
    "module",
    "function",
    "builtin_function_or_method",
    "instance",
    "_Feature"
   ],
   "window_display": false
  }
 },
 "nbformat": 4,
 "nbformat_minor": 5
}
